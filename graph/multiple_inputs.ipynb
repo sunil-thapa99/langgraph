{
 "cells": [
  {
   "cell_type": "code",
   "execution_count": 1,
   "id": "e5e46ec1",
   "metadata": {},
   "outputs": [],
   "source": [
    "from typing import TypedDict, List\n",
    "from langgraph.graph import StateGraph"
   ]
  },
  {
   "cell_type": "code",
   "execution_count": 2,
   "id": "399467c5",
   "metadata": {},
   "outputs": [],
   "source": [
    "class AgentState(TypedDict):\n",
    "    values: List[int]\n",
    "    name: str\n",
    "    result: str\n",
    "\n"
   ]
  },
  {
   "cell_type": "code",
   "execution_count": 8,
   "id": "d2a077bd",
   "metadata": {},
   "outputs": [],
   "source": [
    "def process_values(state: AgentState) -> AgentState:\n",
    "    \"\"\"\n",
    "    This function handles multiple different inputs\n",
    "    \"\"\"\n",
    "    print(state)\n",
    "    state['result'] = f\"Hi there {state['name']}! Your sum = {sum(state['values'])}\"\n",
    "    print(state)\n",
    "    return state"
   ]
  },
  {
   "cell_type": "code",
   "execution_count": 9,
   "id": "8f92fd53",
   "metadata": {},
   "outputs": [],
   "source": [
    "graph = StateGraph(AgentState)\n",
    "\n",
    "graph.add_node('processor', process_values)\n",
    "graph.set_entry_point('processor')\n",
    "graph.set_finish_point('processor')\n",
    "\n",
    "app = graph.compile()"
   ]
  },
  {
   "cell_type": "code",
   "execution_count": 10,
   "id": "bc21591e",
   "metadata": {},
   "outputs": [
    {
     "name": "stdout",
     "output_type": "stream",
     "text": [
      "{'values': [1, 2, 3], 'name': 'Sunil'}\n",
      "{'values': [1, 2, 3], 'name': 'Sunil', 'result': 'Hi there Sunil! Your sum = 6'}\n"
     ]
    }
   ],
   "source": [
    "result = app.invoke({\n",
    "    'name': 'Sunil',\n",
    "    'values': [1, 2, 3]\n",
    "})"
   ]
  },
  {
   "cell_type": "code",
   "execution_count": 11,
   "id": "74d6a621",
   "metadata": {},
   "outputs": [
    {
     "data": {
      "text/plain": [
       "{'values': [1, 2, 3],\n",
       " 'name': 'Sunil',\n",
       " 'result': 'Hi there Sunil! Your sum = 6'}"
      ]
     },
     "execution_count": 11,
     "metadata": {},
     "output_type": "execute_result"
    }
   ],
   "source": [
    "result"
   ]
  },
  {
   "cell_type": "code",
   "execution_count": 12,
   "id": "b439297f",
   "metadata": {},
   "outputs": [
    {
     "data": {
      "text/plain": [
       "'Hi there Sunil! Your sum = 6'"
      ]
     },
     "execution_count": 12,
     "metadata": {},
     "output_type": "execute_result"
    }
   ],
   "source": [
    "result['result']"
   ]
  },
  {
   "cell_type": "code",
   "execution_count": null,
   "id": "8b13b343",
   "metadata": {},
   "outputs": [],
   "source": []
  }
 ],
 "metadata": {
  "kernelspec": {
   "display_name": "rag_chatbot",
   "language": "python",
   "name": "python3"
  },
  "language_info": {
   "codemirror_mode": {
    "name": "ipython",
    "version": 3
   },
   "file_extension": ".py",
   "mimetype": "text/x-python",
   "name": "python",
   "nbconvert_exporter": "python",
   "pygments_lexer": "ipython3",
   "version": "3.10.16"
  }
 },
 "nbformat": 4,
 "nbformat_minor": 5
}
