{
 "cells": [
  {
   "cell_type": "code",
   "execution_count": 3,
   "id": "f219d2c8",
   "metadata": {},
   "outputs": [],
   "source": [
    "from typing import Dict, TypedDict\n",
    "from langgraph.graph import StateGraph"
   ]
  },
  {
   "cell_type": "code",
   "execution_count": 5,
   "id": "e2b06dee",
   "metadata": {},
   "outputs": [],
   "source": [
    "# we now create an AgentState - shared data structure that keeps track of information as your application runs. \n",
    "\n",
    "class AgentState(TypedDict): # our state schema\n",
    "    message: str\n",
    "\n",
    "\n",
    "def greeting_node(state: AgentState) -> AgentState:\n",
    "    \"\"\"\n",
    "    Simple node that adds a greeting message to the state.\n",
    "    \"\"\"\n",
    "    state[\"message\"] = f\"Hello {state['message']}, how is your day going\"\n",
    "    return state"
   ]
  },
  {
   "cell_type": "code",
   "execution_count": 6,
   "id": "f6b5ced6",
   "metadata": {},
   "outputs": [],
   "source": [
    "graph = StateGraph(AgentState)\n",
    "\n",
    "graph.add_node(\"greeting_node\", greeting_node)\n",
    "\n",
    "graph.set_entry_point(\"greeting_node\")\n",
    "graph.set_finish_point(\"greeting_node\")\n",
    "\n",
    "app = graph.compile()"
   ]
  },
  {
   "cell_type": "code",
   "execution_count": 7,
   "id": "52dfa1cc",
   "metadata": {},
   "outputs": [
    {
     "data": {
      "image/png": "[encoded data removed]",
      "text/plain": [
       "<IPython.core.display.Image object>"
      ]
     },
     "metadata": {},
     "output_type": "display_data"
    }
   ],
   "source": [
    "from IPython.display import Image, display\n",
    "display(Image(app.get_graph().draw_mermaid_png()))"
   ]
  },
  {
   "cell_type": "code",
   "execution_count": 8,
   "id": "408398ef",
   "metadata": {},
   "outputs": [],
   "source": [
    "result = app.invoke({\"message\": \"Sunil\"})"
   ]
  },
  {
   "cell_type": "code",
   "execution_count": null,
   "id": "8a524ff3",
   "metadata": {},
   "outputs": [
    {
     "data": {
      "text/plain": [
       "{'message': 'Hello Sunil, how is your day going'}"
      ]
     },
     "execution_count": 9,
     "metadata": {},
     "output_type": "execute_result"
    }
   ],
   "source": []
  },
  {
   "cell_type": "code",
   "execution_count": null,
   "id": "c80d3507",
   "metadata": {},
   "outputs": [],
   "source": [
    "\n"
   ]
  }
 ],
 "metadata": {
  "kernelspec": {
   "display_name": "rag_chatbot",
   "language": "python",
   "name": "python3"
  },
  "language_info": {
   "codemirror_mode": {
    "name": "ipython",
    "version": 3
   },
   "file_extension": ".py",
   "mimetype": "text/x-python",
   "name": "python",
   "nbconvert_exporter": "python",
   "pygments_lexer": "ipython3",
   "version": "3.10.16"
  }
 },
 "nbformat": 4,
 "nbformat_minor": 5
}
